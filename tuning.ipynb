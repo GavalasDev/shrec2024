{
 "cells": [
  {
   "cell_type": "code",
   "execution_count": 1,
   "id": "c9610135-8aef-4f16-8dea-378c6f46b0b6",
   "metadata": {
    "scrolled": true
   },
   "outputs": [
    {
     "name": "stdout",
     "output_type": "stream",
     "text": [
      "Jupyter environment detected. Enabling Open3D WebVisualizer.\n",
      "[Open3D INFO] WebRTC GUI backend enabled.\n",
      "[Open3D INFO] WebRTCWindowSystem: HTTP handshake server disabled.\n"
     ]
    }
   ],
   "source": [
    "from models import HMModel, PredictionResults\n",
    "from utility import DataParser"
   ]
  },
  {
   "cell_type": "code",
   "execution_count": 2,
   "id": "5ae754d1-23e6-4893-8f6f-4c69ba2b3fb8",
   "metadata": {},
   "outputs": [],
   "source": [
    "data = DataParser(\"Data Split/Train-set\").parse()\n",
    "data = data.filter_markers([0, 2, 3, 5, 7, 9, 11, 13, 14, 16, 17, 19, 21, 23, 25, 27], keep=True) # fingertips, ihand, ohand and iwr"
   ]
  },
  {
   "cell_type": "code",
   "execution_count": 2,
   "id": "95c61c7b-d7e2-434b-9edf-6398ec448237",
   "metadata": {},
   "outputs": [],
   "source": [
    "import pickle "
   ]
  },
  {
   "cell_type": "code",
   "execution_count": 4,
   "id": "63a56add-82c8-47ce-8d33-b1f605414550",
   "metadata": {},
   "outputs": [],
   "source": [
    "def log_result(params, res):\n",
    "    print(params, res.accuracy)\n",
    "    param_str = \"-\".join([str(p) for p in params])\n",
    "    \n",
    "    # dump entire res object\n",
    "    with open(f'Results/{param_str}.pkl', 'wb') as f:\n",
    "        pickle.dump(res, f, pickle.HIGHEST_PROTOCOL)\n",
    "\n",
    "    with open('results.csv', 'a') as f:\n",
    "        for p in params:\n",
    "            f.write(str(p) + \", \")\n",
    "        f.write(str(res.accuracy) + \"\\n\")"
   ]
  },
  {
   "cell_type": "code",
   "execution_count": 5,
   "id": "1aef97e0-34f1-460b-a2c7-710394ee4d01",
   "metadata": {},
   "outputs": [],
   "source": [
    "import os.path"
   ]
  },
  {
   "cell_type": "code",
   "execution_count": null,
   "id": "9b61cca9-9f38-445b-bc75-d57631d529d9",
   "metadata": {
    "collapsed": true,
    "jupyter": {
     "outputs_hidden": true
    },
    "scrolled": true
   },
   "outputs": [
    {
     "name": "stderr",
     "output_type": "stream",
     "text": [
      "Model is not converging.  Current: -26780.012438429596 is not greater than -26777.872268415453. Delta is -2.140170014143223\n",
      "Model is not converging.  Current: -186105.84836876244 is not greater than -186084.166342297. Delta is -21.68202646545251\n",
      "Model is not converging.  Current: -27918.090054544533 is not greater than -27918.085657942593. Delta is -0.004396601940243272\n",
      "Model is not converging.  Current: -221487.87508378067 is not greater than -221486.95371534908. Delta is -0.9213684315909632\n",
      "Model is not converging.  Current: -43171.433559701276 is not greater than -43167.94439950453. Delta is -3.489160196746525\n",
      "Model is not converging.  Current: -19494.117129695005 is not greater than -19486.103965833467. Delta is -8.013163861538487\n",
      "Model is not converging.  Current: -26720.796520495336 is not greater than -26719.904888104917. Delta is -0.8916323904195451\n",
      "Model is not converging.  Current: -27470.186199017047 is not greater than -27469.759084811936. Delta is -0.4271142051111383\n",
      "Model is not converging.  Current: -27524.141239786946 is not greater than -27523.871660016386. Delta is -0.2695797705600853\n",
      "Model is not converging.  Current: -23923.212602540076 is not greater than -23923.078475171642. Delta is -0.13412736843383755\n",
      "Model is not converging.  Current: -29730.667542683594 is not greater than -29730.3016447999. Delta is -0.36589788369383314\n",
      "Model is not converging.  Current: -163934.2000202388 is not greater than -163864.54287877565. Delta is -69.65714146313258\n",
      "Model is not converging.  Current: -168889.19438903304 is not greater than -168856.8181506046. Delta is -32.37623842843459\n",
      "Model is not converging.  Current: -134686.2825687986 is not greater than -134616.40159633313. Delta is -69.88097246547113\n",
      "Model is not converging.  Current: -177296.10509196232 is not greater than -177286.0184316679. Delta is -10.086660294415196\n",
      "Model is not converging.  Current: -164787.56813459098 is not greater than -164771.78234410312. Delta is -15.78579048786196\n",
      "Model is not converging.  Current: -183061.96964909928 is not greater than -183042.43327405682. Delta is -19.53637504245853\n",
      "Model is not converging.  Current: -114008.24579134487 is not greater than -114003.11126543889. Delta is -5.134525905988994\n",
      "Model is not converging.  Current: -117951.50571139733 is not greater than -117919.17524515605. Delta is -32.33046624128474\n",
      "Model is not converging.  Current: -129272.10631894346 is not greater than -129267.0498555955. Delta is -5.056463347966201\n",
      "/home/gavalasdev/University/SHREC/2024/pottery/shrec/lib/python3.11/site-packages/hmmlearn/hmm.py:791: RuntimeWarning: divide by zero encountered in divide\n",
      "  self.covars_ = c_n / c_d\n",
      "/home/gavalasdev/University/SHREC/2024/pottery/shrec/lib/python3.11/site-packages/hmmlearn/hmm.py:791: RuntimeWarning: invalid value encountered in divide\n",
      "  self.covars_ = c_n / c_d\n",
      "/home/gavalasdev/University/SHREC/2024/pottery/shrec/lib/python3.11/site-packages/hmmlearn/_emissions.py:208: RuntimeWarning: divide by zero encountered in log\n",
      "  log_cur_weights = np.log(self.weights_[i_comp])\n",
      "/home/gavalasdev/University/SHREC/2024/pottery/shrec/lib/python3.11/site-packages/hmmlearn/_emissions.py:208: RuntimeWarning: divide by zero encountered in log\n",
      "  log_cur_weights = np.log(self.weights_[i_comp])\n"
     ]
    },
    {
     "name": "stdout",
     "output_type": "stream",
     "text": [
      "('velpos', 3, 5, 70, 10) 0.7\n"
     ]
    },
    {
     "name": "stderr",
     "output_type": "stream",
     "text": [
      "Model is not converging.  Current: -26780.012438429596 is not greater than -26777.872268415424. Delta is -2.1401700141723268\n",
      "Model is not converging.  Current: -186105.84836874748 is not greater than -186084.1663422787. Delta is -21.682026468770346\n",
      "Model is not converging.  Current: -27918.090054544493 is not greater than -27918.085657942524. Delta is -0.004396601969347103\n",
      "Model is not converging.  Current: -221487.8750837807 is not greater than -221486.95371534917. Delta is -0.9213684315327555\n",
      "Model is not converging.  Current: -43171.433559701276 is not greater than -43167.94439950453. Delta is -3.489160196746525\n",
      "Model is not converging.  Current: -19494.117129695005 is not greater than -19486.103965833467. Delta is -8.013163861538487\n",
      "Model is not converging.  Current: -26720.796520495012 is not greater than -26719.904888105742. Delta is -0.8916323892699438\n",
      "Model is not converging.  Current: -27470.18619901807 is not greater than -27469.75908481161. Delta is -0.4271142064608284\n",
      "Model is not converging.  Current: -27524.141239786677 is not greater than -27523.871660016066. Delta is -0.269579770611017\n",
      "Model is not converging.  Current: -23923.212602540076 is not greater than -23923.078475171642. Delta is -0.13412736843383755\n",
      "Model is not converging.  Current: -29730.667542684376 is not greater than -29730.30164479993. Delta is -0.36589788444689475\n",
      "Model is not converging.  Current: -163934.2000202388 is not greater than -163864.54287877565. Delta is -69.65714146313258\n",
      "Model is not converging.  Current: -168889.19438903304 is not greater than -168856.8181506046. Delta is -32.37623842843459\n",
      "Model is not converging.  Current: -134686.28256878466 is not greater than -134616.4015963662. Delta is -69.88097241846845\n",
      "Model is not converging.  Current: -177296.10509179617 is not greater than -177286.01843135708. Delta is -10.086660439090338\n",
      "Model is not converging.  Current: -164787.5681346442 is not greater than -164771.78234409261. Delta is -15.785790551599348\n",
      "Model is not converging.  Current: -183061.96964909928 is not greater than -183042.43327405682. Delta is -19.53637504245853\n",
      "Model is not converging.  Current: -114008.24579134487 is not greater than -114003.11126543889. Delta is -5.134525905988994\n",
      "Model is not converging.  Current: -117951.50571139733 is not greater than -117919.17524515605. Delta is -32.33046624128474\n",
      "Model is not converging.  Current: -129272.10631894857 is not greater than -129267.04985561006. Delta is -5.056463338507456\n",
      "/home/gavalasdev/University/SHREC/2024/pottery/shrec/lib/python3.11/site-packages/hmmlearn/hmm.py:791: RuntimeWarning: divide by zero encountered in divide\n",
      "  self.covars_ = c_n / c_d\n",
      "/home/gavalasdev/University/SHREC/2024/pottery/shrec/lib/python3.11/site-packages/hmmlearn/hmm.py:791: RuntimeWarning: invalid value encountered in divide\n",
      "  self.covars_ = c_n / c_d\n",
      "/home/gavalasdev/University/SHREC/2024/pottery/shrec/lib/python3.11/site-packages/hmmlearn/_emissions.py:208: RuntimeWarning: divide by zero encountered in log\n",
      "  log_cur_weights = np.log(self.weights_[i_comp])\n",
      "/home/gavalasdev/University/SHREC/2024/pottery/shrec/lib/python3.11/site-packages/hmmlearn/_emissions.py:208: RuntimeWarning: divide by zero encountered in log\n",
      "  log_cur_weights = np.log(self.weights_[i_comp])\n"
     ]
    },
    {
     "name": "stdout",
     "output_type": "stream",
     "text": [
      "('velpos', 3, 5, 80, 10) 0.7\n"
     ]
    },
    {
     "name": "stderr",
     "output_type": "stream",
     "text": [
      "Model is not converging.  Current: -26780.012438429585 is not greater than -26777.872268415435. Delta is -2.140170014150499\n",
      "Model is not converging.  Current: -186105.84836874748 is not greater than -186084.1663422787. Delta is -21.682026468770346\n",
      "Model is not converging.  Current: -27918.090054544515 is not greater than -27918.085657942553. Delta is -0.004396601962071145\n",
      "Model is not converging.  Current: -221487.8750837807 is not greater than -221486.95371534917. Delta is -0.9213684315327555\n",
      "Model is not converging.  Current: -43171.433559701276 is not greater than -43167.94439950453. Delta is -3.489160196746525\n",
      "Model is not converging.  Current: -19494.117129695005 is not greater than -19486.103965833467. Delta is -8.013163861538487\n",
      "Model is not converging.  Current: -26720.796520495336 is not greater than -26719.904888104917. Delta is -0.8916323904195451\n",
      "Model is not converging.  Current: -27470.186199017047 is not greater than -27469.759084811936. Delta is -0.4271142051111383\n",
      "Model is not converging.  Current: -27524.141239786946 is not greater than -27523.871660016386. Delta is -0.2695797705600853\n",
      "Model is not converging.  Current: -23923.212602540076 is not greater than -23923.078475171642. Delta is -0.13412736843383755\n",
      "Model is not converging.  Current: -29730.667542684376 is not greater than -29730.30164479993. Delta is -0.36589788444689475\n",
      "Model is not converging.  Current: -163934.2000202388 is not greater than -163864.54287877565. Delta is -69.65714146313258\n",
      "Model is not converging.  Current: -168889.19438903304 is not greater than -168856.8181506046. Delta is -32.37623842843459\n",
      "Model is not converging.  Current: -134686.28256878466 is not greater than -134616.4015963662. Delta is -69.88097241846845\n",
      "Model is not converging.  Current: -177296.10509200484 is not greater than -177286.01843147632. Delta is -10.086660528526409\n",
      "Model is not converging.  Current: -164787.56813459098 is not greater than -164771.78234410312. Delta is -15.78579048786196\n",
      "Model is not converging.  Current: -183061.96964909928 is not greater than -183042.43327405682. Delta is -19.53637504245853\n",
      "Model is not converging.  Current: -114008.24579134487 is not greater than -114003.11126543889. Delta is -5.134525905988994\n",
      "Model is not converging.  Current: -117951.50571139733 is not greater than -117919.17524515605. Delta is -32.33046624128474\n",
      "Model is not converging.  Current: -129272.1063189462 is not greater than -129267.04985560648. Delta is -5.056463339715265\n",
      "/home/gavalasdev/University/SHREC/2024/pottery/shrec/lib/python3.11/site-packages/hmmlearn/hmm.py:791: RuntimeWarning: divide by zero encountered in divide\n",
      "  self.covars_ = c_n / c_d\n",
      "/home/gavalasdev/University/SHREC/2024/pottery/shrec/lib/python3.11/site-packages/hmmlearn/hmm.py:791: RuntimeWarning: invalid value encountered in divide\n",
      "  self.covars_ = c_n / c_d\n",
      "/home/gavalasdev/University/SHREC/2024/pottery/shrec/lib/python3.11/site-packages/hmmlearn/_emissions.py:208: RuntimeWarning: divide by zero encountered in log\n",
      "  log_cur_weights = np.log(self.weights_[i_comp])\n",
      "/home/gavalasdev/University/SHREC/2024/pottery/shrec/lib/python3.11/site-packages/hmmlearn/_emissions.py:208: RuntimeWarning: divide by zero encountered in log\n",
      "  log_cur_weights = np.log(self.weights_[i_comp])\n"
     ]
    },
    {
     "name": "stdout",
     "output_type": "stream",
     "text": [
      "('velpos', 3, 5, 90, 10) 0.66\n"
     ]
    },
    {
     "name": "stderr",
     "output_type": "stream",
     "text": [
      "Model is not converging.  Current: -26780.012438429585 is not greater than -26777.872268415435. Delta is -2.140170014150499\n",
      "Model is not converging.  Current: -186105.84836874748 is not greater than -186084.1663422787. Delta is -21.682026468770346\n",
      "Model is not converging.  Current: -27918.090054544522 is not greater than -27918.085657942578. Delta is -0.004396601943881251\n",
      "Model is not converging.  Current: -221487.8750837803 is not greater than -221486.95371534902. Delta is -0.921368431270821\n",
      "Model is not converging.  Current: -43171.433559701276 is not greater than -43167.94439950453. Delta is -3.489160196746525\n",
      "Model is not converging.  Current: -19494.117129695005 is not greater than -19486.103965833467. Delta is -8.013163861538487\n",
      "Model is not converging.  Current: -26720.796520495336 is not greater than -26719.904888104917. Delta is -0.8916323904195451\n",
      "Model is not converging.  Current: -27470.186199017047 is not greater than -27469.759084811936. Delta is -0.4271142051111383\n",
      "Model is not converging.  Current: -27524.141239786946 is not greater than -27523.871660016386. Delta is -0.2695797705600853\n",
      "Model is not converging.  Current: -23923.21260253934 is not greater than -23923.078475171016. Delta is -0.13412736832469818\n",
      "Model is not converging.  Current: -29730.667542683528 is not greater than -29730.301644799565. Delta is -0.36589788396304357\n",
      "Model is not converging.  Current: -163934.2000202388 is not greater than -163864.54287877565. Delta is -69.65714146313258\n",
      "Model is not converging.  Current: -168889.19438902818 is not greater than -168856.81815059276. Delta is -32.37623843541951\n",
      "Model is not converging.  Current: -134686.28256879793 is not greater than -134616.40159635764. Delta is -69.88097244029632\n",
      "Model is not converging.  Current: -177296.10509179617 is not greater than -177286.01843135708. Delta is -10.086660439090338\n",
      "Model is not converging.  Current: -164787.56813459087 is not greater than -164771.78234410193. Delta is -15.785790488938801\n",
      "Model is not converging.  Current: -183061.96964909928 is not greater than -183042.43327405682. Delta is -19.53637504245853\n",
      "Model is not converging.  Current: -114008.24579134774 is not greater than -114003.11126544786. Delta is -5.13452589987719\n",
      "Model is not converging.  Current: -117951.50571139733 is not greater than -117919.17524515605. Delta is -32.33046624128474\n",
      "Model is not converging.  Current: -129272.1063189495 is not greater than -129267.04985561091. Delta is -5.056463338594767\n",
      "/home/gavalasdev/University/SHREC/2024/pottery/shrec/lib/python3.11/site-packages/hmmlearn/hmm.py:791: RuntimeWarning: divide by zero encountered in divide\n",
      "  self.covars_ = c_n / c_d\n",
      "/home/gavalasdev/University/SHREC/2024/pottery/shrec/lib/python3.11/site-packages/hmmlearn/hmm.py:791: RuntimeWarning: invalid value encountered in divide\n",
      "  self.covars_ = c_n / c_d\n",
      "/home/gavalasdev/University/SHREC/2024/pottery/shrec/lib/python3.11/site-packages/hmmlearn/_emissions.py:208: RuntimeWarning: divide by zero encountered in log\n",
      "  log_cur_weights = np.log(self.weights_[i_comp])\n",
      "/home/gavalasdev/University/SHREC/2024/pottery/shrec/lib/python3.11/site-packages/hmmlearn/_emissions.py:208: RuntimeWarning: divide by zero encountered in log\n",
      "  log_cur_weights = np.log(self.weights_[i_comp])\n"
     ]
    },
    {
     "name": "stdout",
     "output_type": "stream",
     "text": [
      "('velpos', 3, 5, 100, 10) 0.42\n",
      "('velpos', 3, 5, 110, 10) -1\n"
     ]
    }
   ],
   "source": [
    "for h_type in ('velpos', 'angvel'):\n",
    "    for downsample_step in range(10, 4, -1):\n",
    "        for n_components in range(3, 4):\n",
    "            for n_mix in range(5, 6):\n",
    "                for n_iter in range(70, 151, 10):\n",
    "                    params = (h_type, n_components, n_mix, n_iter, downsample_step)\n",
    "                    if os.path.isfile(\"Results/\"+\"-\".join([str(p) for p in params])+\".pkl\"):\n",
    "                        print(\"Skipping\", params)\n",
    "                        continue\n",
    "                    model = HMModel(n_components=n_components, n_mix=n_mix, n_iter=n_iter, h_type=h_type, downsample_step=downsample_step, verbose=False)\n",
    "                    try:\n",
    "                        res = model.train(data, cross_validate=True)\n",
    "                    except:\n",
    "                        res = PredictionResults(accuracy=-1)\n",
    "                    log_result(params, res)"
   ]
  },
  {
   "cell_type": "code",
   "execution_count": 3,
   "id": "ba22e181-b752-4e9d-89c1-82f418fbad76",
   "metadata": {},
   "outputs": [],
   "source": [
    "import logging\n",
    "import sys"
   ]
  },
  {
   "cell_type": "code",
   "execution_count": 4,
   "id": "93793257-1fde-49c8-bcbd-1c4954ea0e46",
   "metadata": {},
   "outputs": [],
   "source": [
    "import optuna"
   ]
  },
  {
   "cell_type": "code",
   "execution_count": 5,
   "id": "4f20bab5-9040-425a-8991-5ab1aae9aa8a",
   "metadata": {},
   "outputs": [],
   "source": [
    "def objective(trial):\n",
    "    #h_type = trial.suggest_categorical('h_type', ['velpos', 'angvel'])\n",
    "    n_components = trial.suggest_int('n_components', 2, 10)\n",
    "    n_mix = trial.suggest_int('n_mix', 2, 10)\n",
    "    n_iter = trial.suggest_int('n_iter', 50, 500, step=5)\n",
    "    downsample_step = trial.suggest_int('downsample_step', 2, 25)\n",
    "    model = HMModel(n_components=n_components, n_mix=n_mix, n_iter=n_iter, tol=1, h_type=\"velpos\", downsample_step=downsample_step, verbose=True)\n",
    "    \n",
    "    res = PredictionResults(accuracy=-1)\n",
    "    iter = model.train(data, cross_validate=True, generate=True)\n",
    "    for i, r in enumerate(iter):\n",
    "        res = r\n",
    "        trial.report(res.accuracy, i)\n",
    "        if trial.should_prune():\n",
    "            raise optuna.TrialPruned()\n",
    "            \n",
    "    return res.accuracy"
   ]
  },
  {
   "cell_type": "code",
   "execution_count": 6,
   "id": "c2b51a4c-fbce-403a-8559-4bbcd23bf7e2",
   "metadata": {},
   "outputs": [],
   "source": [
    "# Add stream handler of stdout to show the messages\n",
    "optuna.logging.get_logger(\"optuna\").addHandler(logging.StreamHandler(sys.stdout))"
   ]
  },
  {
   "cell_type": "code",
   "execution_count": 7,
   "id": "148fbb80-b488-4638-99a3-aea5c3f88805",
   "metadata": {},
   "outputs": [
    {
     "name": "stderr",
     "output_type": "stream",
     "text": [
      "[I 2024-03-16 21:08:48,655] Using an existing study with name 'hmm-study' instead of creating a new one.\n"
     ]
    },
    {
     "name": "stdout",
     "output_type": "stream",
     "text": [
      "Using an existing study with name 'hmm-study' instead of creating a new one.\n"
     ]
    }
   ],
   "source": [
    "study_name = \"hmm-study\" \n",
    "storage_name = \"sqlite:///{}.db\".format(study_name)\n",
    "pruner = optuna.pruners.MedianPruner(n_warmup_steps=10)\n",
    "study = optuna.create_study(load_if_exists=True, study_name=study_name, storage=storage_name, pruner=pruner, direction=\"maximize\")"
   ]
  },
  {
   "cell_type": "code",
   "execution_count": null,
   "id": "84bbc686-f020-42f1-afe9-941567d0e347",
   "metadata": {
    "scrolled": true
   },
   "outputs": [],
   "source": [
    "study.optimize(objective, n_trials=100, catch=Exception)"
   ]
  },
  {
   "cell_type": "code",
   "execution_count": 9,
   "id": "0d2bd1cb-118f-407b-b83d-9b53ffb32f69",
   "metadata": {},
   "outputs": [
    {
     "data": {
      "text/plain": [
       "{'n_components': 10, 'n_mix': 8, 'n_iter': 315, 'downsample_step': 7}"
      ]
     },
     "execution_count": 9,
     "metadata": {},
     "output_type": "execute_result"
    }
   ],
   "source": [
    "study.best_params"
   ]
  },
  {
   "cell_type": "code",
   "execution_count": null,
   "id": "92277d71-9ae6-479e-b8f2-e581e6526000",
   "metadata": {},
   "outputs": [],
   "source": []
  }
 ],
 "metadata": {
  "kernelspec": {
   "display_name": "shrec",
   "language": "python",
   "name": "shrec"
  },
  "language_info": {
   "codemirror_mode": {
    "name": "ipython",
    "version": 3
   },
   "file_extension": ".py",
   "mimetype": "text/x-python",
   "name": "python",
   "nbconvert_exporter": "python",
   "pygments_lexer": "ipython3",
   "version": "3.11.8"
  }
 },
 "nbformat": 4,
 "nbformat_minor": 5
}
